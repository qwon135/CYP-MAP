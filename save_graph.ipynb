{
 "cells": [
  {
   "cell_type": "code",
   "execution_count": 1,
   "metadata": {},
   "outputs": [],
   "source": [
    "import torch\n",
    "import torch_geometric.transforms as T\n",
    "from torch_geometric.loader import DataLoader\n",
    "from matplotlib import pyplot as plt\n",
    "import inspect, random, os\n",
    "import numpy as np\n",
    "import pandas as pd\n",
    "from rdkit.Chem import AllChem\n",
    "from rdkit import Chem\n",
    "from multiprocessing import Pool\n",
    "from rdkit.Chem import Draw, PandasTools\n",
    "from torch_geometric.loader import DataLoader\n",
    "from sklearn.metrics import accuracy_score, f1_score, jaccard_score, precision_score, recall_score, roc_auc_score, average_precision_score\n",
    "\n",
    "from sklearn.model_selection import train_test_split\n",
    "from torch_geometric.nn.aggr import AttentionalAggregation\n",
    "import torch\n",
    "from som_dataset import CustomDataset\n",
    "\n",
    "import warnings\n",
    "warnings.filterwarnings('ignore', '.*Sparse CSR tensor support is in beta state.*')\n"
   ]
  },
  {
   "cell_type": "markdown",
   "metadata": {},
   "source": [
    "### Save Graph"
   ]
  },
  {
   "cell_type": "code",
   "execution_count": 2,
   "metadata": {},
   "outputs": [],
   "source": [
    "from som_dataset import mol2bond_label, mol2graph, get_equivalent_bonds, check_ns_oxidation\n",
    "from tqdm import tqdm"
   ]
  },
  {
   "cell_type": "code",
   "execution_count": 3,
   "metadata": {},
   "outputs": [],
   "source": [
    "cyp_list = ['BOM_1A2', 'BOM_2A6', 'BOM_2B6', 'BOM_2C8', 'BOM_2C9', 'BOM_2C19', 'BOM_2D6', 'BOM_2E1', 'BOM_3A4', 'CYP_REACTION']"
   ]
  },
  {
   "cell_type": "code",
   "execution_count": 4,
   "metadata": {},
   "outputs": [],
   "source": [
    "df = PandasTools.LoadSDF('../data/train_nonreact_0611.sdf')\n",
    "test_df = PandasTools.LoadSDF('../data/test_0611.sdf')"
   ]
  },
  {
   "cell_type": "code",
   "execution_count": 5,
   "metadata": {},
   "outputs": [],
   "source": [
    "df.loc[df['PubChem_CID'] == '2078','BOM_3A4' ] = '<2,6;Cleavage;R1>\\n<6,H;Hydroxylation;R1>'\n",
    "df.loc[df['PubChem_CID'] == '45279963','BOM_2B6' ] = '<2,31;Cleavage;R1>'\n",
    "df.loc[df['PubChem_CID'] == '134821691', 'BOM_1A2'] = '<30,9;Cleavage;R1>'\n",
    "df.loc[df['PubChem_CID'] == '134821691', 'BOM_2B6'] = ''\n",
    "df.loc[df['PubChem_CID'] == '134821691', 'BOM_2D6'] = ''"
   ]
  },
  {
   "cell_type": "code",
   "execution_count": 6,
   "metadata": {},
   "outputs": [],
   "source": [
    "def CYP_REACTION(x):\n",
    "    cyp_col = ['BOM_1A2', 'BOM_2A6', 'BOM_2B6', 'BOM_2C8', 'BOM_2C9', 'BOM_2C19', 'BOM_2D6', 'BOM_2E1', 'BOM_3A4',]\n",
    "    cyp_reactions = x[cyp_col].tolist()\n",
    "    cyp_reactions = [i for i in cyp_reactions if i] \n",
    "    return '\\n'.join( cyp_reactions )"
   ]
  },
  {
   "cell_type": "code",
   "execution_count": 7,
   "metadata": {},
   "outputs": [],
   "source": [
    "df['CYP_REACTION'] = df.apply(CYP_REACTION, axis=1)\n",
    "test_df['CYP_REACTION'] = test_df.apply(CYP_REACTION, axis=1)\n",
    "\n",
    "df['POS_ID'] = 'TRAIN' + df.index.astype(str).str.zfill(4)\n",
    "test_df['POS_ID'] = 'TEST' + test_df.index.astype(str).str.zfill(4)"
   ]
  },
  {
   "cell_type": "code",
   "execution_count": 8,
   "metadata": {},
   "outputs": [],
   "source": [
    "def is_has_H(atom_idx, bonds_idx_h, atoms_h):\n",
    "    return any([(atoms_h[i] == 'H' or atoms_h[j] == 'H') for i,j in bonds_idx_h if atom_idx in (i,j)])"
   ]
  },
  {
   "cell_type": "code",
   "execution_count": 9,
   "metadata": {},
   "outputs": [],
   "source": [
    "data = pd.concat([df, test_df]).reset_index(drop=True)"
   ]
  },
  {
   "cell_type": "markdown",
   "metadata": {},
   "source": [
    "### AddH"
   ]
  },
  {
   "cell_type": "code",
   "execution_count": 10,
   "metadata": {},
   "outputs": [],
   "source": [
    "# import os, shutil\n",
    "\n",
    "# shutil.rmtree('graph_pt')\n",
    "# os.mkdir('graph_pt')"
   ]
  },
  {
   "cell_type": "code",
   "execution_count": 11,
   "metadata": {},
   "outputs": [],
   "source": [
    "def H20(array_list, num_Atom):\n",
    "    new_array_list = []\n",
    "    for array in array_list:\n",
    "        array = np.array(array)\n",
    "        array[-(len(array)-num_Atom):] = 0\n",
    "        new_array_list.append(array.tolist())\n",
    "    return new_array_list"
   ]
  },
  {
   "cell_type": "code",
   "execution_count": 78,
   "metadata": {},
   "outputs": [
    {
     "data": {
      "text/plain": [
       "tensor(3)"
      ]
     },
     "execution_count": 78,
     "metadata": {},
     "output_type": "execute_result"
    }
   ],
   "source": [
    "a = torch.tensor([True, False, False])\n",
    "torch.ones_like(a).bool().sum()"
   ]
  },
  {
   "cell_type": "code",
   "execution_count": 12,
   "metadata": {},
   "outputs": [
    {
     "name": "stderr",
     "output_type": "stream",
     "text": [
      "100%|██████████| 2168/2168 [00:19<00:00, 108.89it/s]\n"
     ]
    }
   ],
   "source": [
    "for i in tqdm(range(data.shape[0])):\n",
    "    pos_id = data.loc[i, 'POS_ID']\n",
    "    mol = data.loc[i, 'ROMol']\n",
    "\n",
    "    mol_H = AllChem.AddHs( mol, addCoords=True)\n",
    "    atoms_h = [i.GetSymbol() for i in mol_H.GetAtoms()]\n",
    "    bonds_idx_h = [(i.GetBeginAtomIdx(),i.GetEndAtomIdx()) for i in mol_H.GetBonds()]\n",
    "    bonds_h = [(i.GetBeginAtom().GetSymbol(),i.GetEndAtom().GetSymbol()) for i in mol_H.GetBonds()]\n",
    "    \n",
    "    graph_h = mol2graph(mol_H)\n",
    "    graph_h.x[:, 4] = torch.LongTensor([i.GetTotalNumHs() for i in mol.GetAtoms()] + [0] * (mol_H.GetNumAtoms() - mol.GetNumAtoms()) )\n",
    "    \n",
    "    eq_atoms, eq_bonds = get_equivalent_bonds(mol_H)\n",
    "    \n",
    "    graph_h.equivalent_atoms = eq_atoms\n",
    "    graph_h.equivalent_bonds = eq_bonds\n",
    "    graph_h.pe = torch.Tensor([0])\n",
    "    graph_h.smile =  Chem.MolToSmiles(mol_H)\n",
    "    graph_h.spn_atom = torch.BoolTensor([i in ['S', 'N'] for i in atoms_h ])\n",
    "    # graph_h.has_H_atom = torch.BoolTensor([i.GetTotalNumHs() for i in mol.GetAtoms()] + [False] * (len(atoms_h) - mol.GetNumAtoms()))\n",
    "    has_h_atom = [is_has_H(atom_idx, bonds_idx_h, atoms_h) for atom_idx in range(len(atoms_h))][:mol.GetNumAtoms()]\n",
    "    graph_h.is_H = torch.BoolTensor([i == 'H' for i in atoms_h])\n",
    "    graph_h.has_H_atom =   torch.BoolTensor( has_h_atom + [False] * (len(atoms_h) - mol.GetNumAtoms()))\n",
    "    graph_h.not_has_H_bond = torch.BoolTensor([('H' not in i) for i in bonds_h])\n",
    "    graph_h.atoms = atoms_h\n",
    "    graph_h.bonds_idx_h = bonds_idx_h\n",
    "\n",
    "    H_atom_idx = torch.where(graph_h.has_H_atom)[0]\n",
    "    first_H_bond_idx = []\n",
    "    for h_atom_idx in H_atom_idx:\n",
    "        first_H_bond_idx.append([n for n, (i,j) in enumerate(bonds_idx_h) if h_atom_idx in (i,j) and 'H' in bonds_h[n]][0])\n",
    "    first_H_bond_idx = [i in first_H_bond_idx for i in range((len(bonds_idx_h)))]\n",
    "\n",
    "    graph_h.first_H_bond_idx = torch.BoolTensor(first_H_bond_idx)\n",
    "    y, y_substrate, y_atom = {}, {}, {}        \n",
    "    y_bond_hydroxylation, y_bond_oxidation, y_bond_reduction, y_bond_cleavage = {}, {}, {}, {}\n",
    "    y_atom_hydroxylation, y_atom_oxidation, y_atom_reduction, y_atom_cleavage= {}, {}, {}, {}\n",
    "    y_spn = {}\n",
    "\n",
    "    for cyp in cyp_list:                \n",
    "        reactions = data.loc[i, cyp].split('\\n')\n",
    "        reactions = [check_ns_oxidation(i) for i in reactions]\n",
    "        \n",
    "        (bond_label,\n",
    "        bond_cleavage,\n",
    "        bond_reduction,\n",
    "        bond_hydroxylation,\n",
    "        bond_oxidation,\n",
    "        atom_label,\n",
    "        atom_cleavage,\n",
    "        atom_reduction,\n",
    "        atom_hydroxylation,\n",
    "        atom_oxidation,\n",
    "        atom_spn) = mol2bond_label(atoms=atoms_h, bonds=bonds_h, bonds_idx=bonds_idx_h, reactions=reactions)    \n",
    "\n",
    "        y[cyp] = torch.FloatTensor(bond_label)\n",
    "        y_substrate[cyp] = torch.FloatTensor([1 if data.loc[i, cyp] != '' else 0])\n",
    "        y_atom[cyp] = torch.FloatTensor(atom_label)        \n",
    "\n",
    "        y_spn[cyp] = torch.FloatTensor(atom_spn)\n",
    "\n",
    "        y_bond_cleavage[cyp] = torch.FloatTensor(bond_cleavage)\n",
    "        y_bond_hydroxylation[cyp] = torch.FloatTensor(bond_hydroxylation)\n",
    "        y_bond_reduction[cyp] = torch.FloatTensor(bond_reduction)\n",
    "        y_bond_oxidation[cyp] = torch.FloatTensor(bond_oxidation)\n",
    "\n",
    "        y_atom_hydroxylation[cyp] = torch.FloatTensor(atom_hydroxylation)\n",
    "        y_atom_oxidation[cyp] = torch.FloatTensor(atom_oxidation)\n",
    "        y_atom_reduction[cyp] = torch.FloatTensor(atom_reduction)\n",
    "        y_atom_cleavage[cyp] = torch.FloatTensor(atom_cleavage)\n",
    "        \n",
    "    \n",
    "    graph_h.y = y\n",
    "    graph_h.y_substrate = y_substrate\n",
    "    graph_h.y_atom = y_atom\n",
    "        \n",
    "    graph_h.y_spn = y_spn\n",
    "\n",
    "    graph_h.y_bond_cleavage = y_bond_cleavage\n",
    "    graph_h.y_bond_hydroxylation = y_bond_hydroxylation\n",
    "    graph_h.y_bond_oxidation = y_bond_oxidation    \n",
    "    graph_h.y_bond_reduction = y_bond_reduction\n",
    "\n",
    "    graph_h.y_atom_cleavage = y_atom_cleavage\n",
    "    graph_h.y_atom_hydroxylation = y_atom_hydroxylation\n",
    "    graph_h.y_atom_oxidation = y_atom_oxidation    \n",
    "    graph_h.y_atom_reduction = y_atom_reduction\n",
    "    \n",
    "\n",
    "    graph_h.mid = data.loc[i, 'POS_ID']\n",
    "    torch.save(graph_h, f'graph_pt/{pos_id}_addh.pt')"
   ]
  },
  {
   "cell_type": "code",
   "execution_count": 111,
   "metadata": {},
   "outputs": [
    {
     "name": "stdout",
     "output_type": "stream",
     "text": [
      "tensor(1995.) tensor(1995.)\n"
     ]
    }
   ],
   "source": [
    "# atom_h, bond_h = 0, 0\n",
    "# for mid in data['POS_ID'].tolist():\n",
    "#     graph_h = torch.load(f'graph_pt/{mid}_addh.pt')\n",
    "#     graph = torch.load(f'graph_pt/{mid}.pt')\n",
    "\n",
    "#     y_bond_hydroxylation = graph_h.y_bond_hydroxylation['CYP_REACTION'][graph_h.first_H_bond_idx]    \n",
    "#     y_hydroxylation = graph_h.y_hydroxylation['CYP_REACTION'][graph_h.has_H_atom]    \n",
    "    \n",
    "#     atom_h += y_hydroxylation.sum()\n",
    "#     bond_h += y_bond_hydroxylation.sum()\n",
    "# print(atom_h, bond_h)"
   ]
  },
  {
   "cell_type": "code",
   "execution_count": 25,
   "metadata": {},
   "outputs": [],
   "source": [
    "test = data[data['POS_ID'].str.contains('TEST')].reset_index(drop=True)"
   ]
  },
  {
   "cell_type": "code",
   "execution_count": 72,
   "metadata": {},
   "outputs": [
    {
     "name": "stdout",
     "output_type": "stream",
     "text": [
      "436.0 436.0\n"
     ]
    }
   ],
   "source": [
    "a, b = 0, 0\n",
    "for mid in test['POS_ID'].tolist():\n",
    "    graph_h = torch.load(f'graph_pt/{mid}_addh.pt')\n",
    "    \n",
    "    \n",
    "    bond_with_firstH = graph_h.not_has_H_bond + graph_h.first_H_bond_idx\n",
    "\n",
    "    spn = graph_h.y_spn['CYP_REACTION'][graph_h.spn_atom].sum().item()\n",
    "    bond_som = graph_h.y['CYP_REACTION'][graph_h.not_has_H_bond].sum().item()\n",
    "    h_som = graph_h.y_bond_hydroxylation['CYP_REACTION'][graph_h.first_H_bond_idx].sum().item()\n",
    "\n",
    "    a += (spn + bond_som + h_som)\n",
    "\n",
    "    spn = graph_h.y_spn['CYP_REACTION'][graph_h.spn_atom].sum().item()\n",
    "    bond_som = graph_h.y['CYP_REACTION'][bond_with_firstH].sum().item()\n",
    "\n",
    "    b += (spn + bond_som)\n",
    "\n",
    "print(a,b)"
   ]
  },
  {
   "cell_type": "code",
   "execution_count": 75,
   "metadata": {},
   "outputs": [
    {
     "name": "stdout",
     "output_type": "stream",
     "text": [
      "229.0 229.0\n"
     ]
    }
   ],
   "source": [
    "a, b = 0, 0\n",
    "for mid in test['POS_ID'].tolist():\n",
    "    graph_h = torch.load(f'graph_pt/{mid}_addh.pt')\n",
    "    \n",
    "    \n",
    "    bond_with_firstH = graph_h.not_has_H_bond + graph_h.first_H_bond_idx\n",
    "\n",
    "    a += graph_h.y_bond_hydroxylation['CYP_REACTION'][graph_h.first_H_bond_idx].sum().item()\n",
    "    b += graph_h.y_bond_hydroxylation['CYP_REACTION'][bond_with_firstH].sum().item()\n",
    "\n",
    "print(a,b)"
   ]
  },
  {
   "cell_type": "code",
   "execution_count": 65,
   "metadata": {},
   "outputs": [
    {
     "data": {
      "text/plain": [
       "tensor(13)"
      ]
     },
     "execution_count": 65,
     "metadata": {},
     "output_type": "execute_result"
    }
   ],
   "source": []
  },
  {
   "cell_type": "code",
   "execution_count": null,
   "metadata": {},
   "outputs": [],
   "source": []
  },
  {
   "cell_type": "code",
   "execution_count": null,
   "metadata": {},
   "outputs": [],
   "source": []
  },
  {
   "cell_type": "code",
   "execution_count": 27,
   "metadata": {},
   "outputs": [],
   "source": [
    "atom_h, bond_h = 0, 0\n",
    "for mid in data['POS_ID'].tolist():\n",
    "    # graph = torch.load(f'graph_pt/{mid}_addh.pt')\n",
    "    graph = torch.load(f'graph_pt/{mid}.pt')\n",
    "    y_bond_hydroxylation = graph.y_bond_hydroxylation['CYP_REACTION']\n",
    "    y_hydroxylation = graph.y_hydroxylation['CYP_REACTION'][graph.has_H_atom]\n",
    "    \n",
    "    atom_h += y_hydroxylation.sum()\n",
    "    bond_h += y_bond_hydroxylation.sum()\n",
    "    "
   ]
  },
  {
   "cell_type": "code",
   "execution_count": 28,
   "metadata": {},
   "outputs": [
    {
     "name": "stdout",
     "output_type": "stream",
     "text": [
      "tensor(1995.) tensor(0.)\n"
     ]
    }
   ],
   "source": [
    "print(atom_h, bond_h)"
   ]
  },
  {
   "cell_type": "markdown",
   "metadata": {},
   "source": [
    "### Not H"
   ]
  },
  {
   "cell_type": "code",
   "execution_count": 14,
   "metadata": {},
   "outputs": [
    {
     "name": "stderr",
     "output_type": "stream",
     "text": [
      "  0%|          | 0/2168 [00:00<?, ?it/s]"
     ]
    },
    {
     "name": "stderr",
     "output_type": "stream",
     "text": [
      "100%|██████████| 2168/2168 [00:10<00:00, 203.35it/s]\n"
     ]
    }
   ],
   "source": [
    "for i in tqdm(range(data.shape[0])):\n",
    "    pos_id = data.loc[i, 'POS_ID']\n",
    "    mol = data.loc[i, 'ROMol']\n",
    "    atoms = [i.GetSymbol() for i in mol.GetAtoms()]\n",
    "    bonds_idx = [(i.GetBeginAtomIdx(),i.GetEndAtomIdx()) for i in mol.GetBonds()]\n",
    "    bonds = [(i.GetBeginAtom().GetSymbol(),i.GetEndAtom().GetSymbol()) for i in mol.GetBonds()]\n",
    "    \n",
    "    mol_H = AllChem.AddHs( mol, addCoords=True)\n",
    "    atoms_h = [i.GetSymbol() for i in mol_H.GetAtoms()]\n",
    "    bonds_idx_h = [(i.GetBeginAtomIdx(),i.GetEndAtomIdx()) for i in mol_H.GetBonds()]\n",
    "    bonds_h = [(i.GetBeginAtom().GetSymbol(),i.GetEndAtom().GetSymbol()) for i in mol_H.GetBonds()]\n",
    "\n",
    "    graph = mol2graph(mol)\n",
    "    eq_atoms, eq_bonds = get_equivalent_bonds(mol)\n",
    "\n",
    "    graph.equivalent_atoms = eq_atoms\n",
    "    graph.equivalent_bonds = eq_bonds\n",
    "    graph.equivalent_bonds = get_equivalent_bonds(mol)\n",
    "    graph.pe = torch.Tensor([0])\n",
    "    graph.smile =  Chem.MolToSmiles(mol)\n",
    "    graph.spn_atom = torch.BoolTensor([i in ['S', 'N'] for i in atoms])\n",
    "    # graph.has_H_atom = torch.BoolTensor([i.GetTotalNumHs() for i in mol.GetAtoms()])\n",
    "\n",
    "    has_h_atom = [is_has_H(atom_idx, bonds_idx_h, atoms_h) for atom_idx in range(len(atoms_h))][:mol.GetNumAtoms()]\n",
    "    graph.has_H_atom =   torch.BoolTensor( has_h_atom)\n",
    "\n",
    "    graph.not_has_H_bond = torch.BoolTensor([('H' not in i) for i in bonds])\n",
    "    graph.atoms = atoms\n",
    "\n",
    "    y, y_substrate, y_atom = {}, {}, {}\n",
    "    y_nn_oxidation, y_cleavage = {}, {}\n",
    "    y_spn, y_hydroxylation, y_nh_oxidation = {}, {}, {}\n",
    "    y_bond_hydroxylation = {}\n",
    "    y_atom_oxidation = {}\n",
    "    for cyp in cyp_list:                \n",
    "        reactions = data.loc[i, cyp].split('\\n')\n",
    "        reactions = [check_ns_oxidation(i) for i in reactions]\n",
    "        \n",
    "        bond_label, bond_nn_oxidation, bond_cleavage, bond_reduction, bond_hydroxylation, _, _, _, _, _ = mol2bond_label(atoms=atoms, bonds=bonds, bonds_idx=bonds_idx, reactions=reactions)\n",
    "        _, _, _, _, _, atom_label, atom_spn, atom_hydroxylation, atom_nh_oxidation, atom_oxidation = mol2bond_label(atoms=atoms_h, bonds=bonds_h, bonds_idx=bonds_idx_h, reactions=reactions)\n",
    "        atom_label, atom_spn, atom_hydroxylation, atom_nh_oxidation, atom_oxidation = atom_label[:mol.GetNumAtoms()], atom_spn[:mol.GetNumAtoms()], atom_hydroxylation[:mol.GetNumAtoms()], atom_nh_oxidation[:mol.GetNumAtoms()], atom_oxidation[:mol.GetNumAtoms()]\n",
    "\n",
    "        y[cyp] = torch.FloatTensor(bond_label)\n",
    "        y_substrate[cyp] = torch.FloatTensor([1 if data.loc[i, cyp] != '' else 0])\n",
    "        y_atom[cyp] = torch.FloatTensor(atom_label)\n",
    "        y_nn_oxidation[cyp] = torch.FloatTensor(bond_nn_oxidation)\n",
    "\n",
    "        y_cleavage[cyp] = torch.FloatTensor(bond_cleavage)\n",
    "        y_spn[cyp] = torch.FloatTensor(atom_spn)\n",
    "        y_bond_hydroxylation[cyp] = torch.FloatTensor(bond_hydroxylation)\n",
    "        y_hydroxylation[cyp] = torch.FloatTensor(atom_hydroxylation)\n",
    "        y_nh_oxidation[cyp] = torch.FloatTensor(atom_nh_oxidation)\n",
    "        y_atom_oxidation[cyp]= torch.FloatTensor(atom_oxidation)\n",
    "        y_bond_reduction[cyp] = torch.FloatTensor(bond_reduction)\n",
    "\n",
    "    graph.y = y\n",
    "    graph.y_substrate = y_substrate\n",
    "    graph.y_atom = y_atom\n",
    "    \n",
    "    graph.y_bond_hydroxylation= y_bond_hydroxylation\n",
    "    graph.y_nn_oxidation = y_nn_oxidation\n",
    "    graph.y_cleavage = y_cleavage\n",
    "    \n",
    "    graph.y_spn = y_spn\n",
    "    graph.y_hydroxylation = y_hydroxylation\n",
    "    graph.y_nh_oxidation = y_nh_oxidation\n",
    "    graph.y_atom_oxidation = y_atom_oxidation\n",
    "    graph.y_bond_reduction = y_bond_reduction\n",
    "\n",
    "    graph.mid = data.loc[i, 'POS_ID']\n",
    "    torch.save(graph, f'graph_pt/{pos_id}.pt')"
   ]
  },
  {
   "cell_type": "code",
   "execution_count": null,
   "metadata": {},
   "outputs": [],
   "source": []
  },
  {
   "cell_type": "code",
   "execution_count": null,
   "metadata": {},
   "outputs": [],
   "source": []
  }
 ],
 "metadata": {
  "kernelspec": {
   "display_name": "crash",
   "language": "python",
   "name": "python3"
  },
  "language_info": {
   "codemirror_mode": {
    "name": "ipython",
    "version": 3
   },
   "file_extension": ".py",
   "mimetype": "text/x-python",
   "name": "python",
   "nbconvert_exporter": "python",
   "pygments_lexer": "ipython3",
   "version": "3.8.17"
  }
 },
 "nbformat": 4,
 "nbformat_minor": 2
}
