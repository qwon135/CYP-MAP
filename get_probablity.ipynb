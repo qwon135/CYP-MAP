{
 "cells": [
  {
   "cell_type": "code",
   "execution_count": 1,
   "metadata": {},
   "outputs": [],
   "source": [
    "import torch\n",
    "from torch_geometric.loader import DataLoader\n",
    "from matplotlib import pyplot as plt\n",
    "import numpy as np\n",
    "from multiprocessing import Pool\n",
    "from rdkit.Chem import Draw, PandasTools\n",
    "from torch_geometric.loader import DataLoader\n",
    "import torch\n",
    "from modules.som_dataset import CustomDataset\n",
    "from modules.som_models import GNNSOM\n",
    "from utils import validation\n",
    "import numpy as np23\n",
    "import warnings\n",
    "warnings.filterwarnings('ignore', '.*Sparse CSR tensor support is in beta state.*')\n",
    "warnings.filterwarnings('ignore', '')"
   ]
  },
  {
   "cell_type": "code",
   "execution_count": null,
   "metadata": {},
   "outputs": [],
   "source": [
    "from torch_geometric.nn.aggr import MultiAggregation\n",
    "from torch_geometric.nn import GlobalAttention"
   ]
  },
  {
   "cell_type": "code",
   "execution_count": 2,
   "metadata": {},
   "outputs": [],
   "source": [
    "def CYP_REACTION(x):\n",
    "    cyp_col = ['BOM_1A2', 'BOM_2A6', 'BOM_2B6', 'BOM_2C8', 'BOM_2C9', 'BOM_2C19', 'BOM_2D6', 'BOM_2E1', 'BOM_3A4']\n",
    "    cyp_reactions = x[cyp_col].tolist()\n",
    "    cyp_reactions = [i for i in cyp_reactions if i] \n",
    "    return '\\n'.join( cyp_reactions )"
   ]
  },
  {
   "cell_type": "code",
   "execution_count": 3,
   "metadata": {},
   "outputs": [],
   "source": [
    "cyp_list = [f'BOM_{i}' for i in  '1A2 2A6 2B6 2C8 2C9 2C19 2D6 2E1 3A4'.split()] + ['CYP_REACTION']"
   ]
  },
  {
   "cell_type": "code",
   "execution_count": 4,
   "metadata": {},
   "outputs": [],
   "source": [
    "class CONFIG:\n",
    "    substrate_loss_weight = 0.33    \n",
    "    bond_loss_weight = 0.33\n",
    "    atom_loss_weight = 0.33\n",
    "    som_type_loss_weight = 0.33\n",
    "    class_type = 2    \n",
    "    th = 0.1    \n",
    "    substrate_th = 0.5\n",
    "    adjust_substrate = False\n",
    "    test_only_reaction_mol = False\n",
    "    equivalent_bonds_mean = False\n",
    "    average = 'binary'            \n",
    "    device = 'cuda:0'    \n",
    "    reduction = 'sum'\n",
    "    metric_mode = 'bond'\n",
    "    n_classes = 5\n",
    "args = CONFIG()\n",
    "\n"
   ]
  },
  {
   "cell_type": "code",
   "execution_count": 5,
   "metadata": {},
   "outputs": [],
   "source": [
    "model = GNNSOM(\n",
    "            num_layers=2,\n",
    "            gnn_num_layers = 8,\n",
    "            pooling='sum',\n",
    "            dropout=0.1, \n",
    "            cyp_list=cyp_list, \n",
    "            use_face = True, \n",
    "            node_attn = True,\n",
    "            face_attn = True,            \n",
    "            n_classes=args.n_classes,\n",
    "            ).to('cuda:0')"
   ]
  },
  {
   "cell_type": "code",
   "execution_count": 25,
   "metadata": {},
   "outputs": [
    {
     "name": "stderr",
     "output_type": "stream",
     "text": [
      "Processing...\n",
      "Done!\n"
     ]
    }
   ],
   "source": [
    "test_df = PandasTools.LoadSDF('data/test_0628.sdf')\n",
    "test_df['CYP_REACTION'] = test_df.apply(CYP_REACTION, axis=1)\n",
    "test_df['POS_ID'] = 'TEST' + test_df.index.astype(str).str.zfill(4)\n",
    "\n",
    "test_dataset = CustomDataset(df=test_df, cyp_list=cyp_list, args=args)\n",
    "test_loader = DataLoader(test_dataset, num_workers=2, batch_size=8, shuffle=False)\n",
    "\n",
    "loss_fn_ce, loss_fn_bce = torch.nn.CrossEntropyLoss(), torch.nn.BCEWithLogitsLoss()"
   ]
  },
  {
   "cell_type": "code",
   "execution_count": 7,
   "metadata": {},
   "outputs": [],
   "source": [
    "args.ckpt = 'finetune/best.pt'\n",
    "model.load_state_dict(torch.load(args.ckpt, 'cpu'))\n",
    "test_scores = validation(model, test_loader, loss_fn_ce, loss_fn_bce, args)\n",
    "validator = test_scores['validator'] "
   ]
  },
  {
   "cell_type": "code",
   "execution_count": 8,
   "metadata": {},
   "outputs": [
    {
     "name": "stdout",
     "output_type": "stream",
     "text": [
      "dict_keys(['subs', 'bond_som', 'atom_som', 'atom_spn', 'dea', 'epo', 'oxi', 'dha', 'dhy', 'rdc'])\n",
      "dict_keys(['BOM_1A2', 'BOM_2A6', 'BOM_2B6', 'BOM_2C8', 'BOM_2C9', 'BOM_2C19', 'BOM_2D6', 'BOM_2E1', 'BOM_3A4', 'CYP_REACTION'])\n"
     ]
    }
   ],
   "source": [
    "print(validator.y_prob.keys())\n",
    "print(validator.y_prob['bond_som'].keys())"
   ]
  },
  {
   "cell_type": "code",
   "execution_count": 9,
   "metadata": {},
   "outputs": [],
   "source": [
    "y_bond_som_1A2 = np.array(validator.y_prob['bond_som']['BOM_1A2'])"
   ]
  },
  {
   "cell_type": "code",
   "execution_count": 10,
   "metadata": {},
   "outputs": [
    {
     "name": "stdout",
     "output_type": "stream",
     "text": [
      "(6338,)\n"
     ]
    }
   ],
   "source": [
    "print(y_bond_som_1A2.shape)"
   ]
  },
  {
   "cell_type": "markdown",
   "metadata": {},
   "source": [
    "### Unbatch"
   ]
  },
  {
   "cell_type": "code",
   "execution_count": 11,
   "metadata": {},
   "outputs": [],
   "source": [
    "validator.unbatch()"
   ]
  },
  {
   "cell_type": "code",
   "execution_count": 44,
   "metadata": {},
   "outputs": [],
   "source": [
    "y_prob_bond_som_1A2 = validator.y_prob_unbatch['bond_som']['BOM_1A2']\n",
    "y_prob_atom_som_1A2 = validator.y_prob_unbatch['atom_som']['BOM_1A2']"
   ]
  },
  {
   "cell_type": "code",
   "execution_count": 45,
   "metadata": {},
   "outputs": [],
   "source": [
    "y_true_bond_som_1A2 = validator.y_true_unbatch['bond_som']['BOM_1A2']\n",
    "y_true_atom_som_1A2 = validator.y_true_unbatch['atom_som']['BOM_1A2']"
   ]
  },
  {
   "cell_type": "code",
   "execution_count": 46,
   "metadata": {},
   "outputs": [
    {
     "name": "stdout",
     "output_type": "stream",
     "text": [
      "135\n"
     ]
    }
   ],
   "source": [
    "print(len(y_bond_som_1A2))"
   ]
  },
  {
   "cell_type": "code",
   "execution_count": 49,
   "metadata": {},
   "outputs": [
    {
     "name": "stdout",
     "output_type": "stream",
     "text": [
      "id : TEST0000 len bond atom : 24 23\n"
     ]
    }
   ],
   "source": [
    "for idx in range(test_df.shape[0]):\n",
    "    test_id = test_df.loc[idx, 'POS_ID']\n",
    "    y_prob_atom_mol = y_prob_atom_som_1A2[idx]\n",
    "    y_prob_bond_mol = y_prob_bond_som_1A2[idx]\n",
    "    print(f'id : {test_id}', f'len bond atom : {y_prob_atom_mol.shape[0]} {y_prob_bond_mol.shape[0]}' )\n",
    "    break\n",
    "\n"
   ]
  },
  {
   "cell_type": "code",
   "execution_count": null,
   "metadata": {},
   "outputs": [],
   "source": []
  }
 ],
 "metadata": {
  "kernelspec": {
   "display_name": "crash",
   "language": "python",
   "name": "python3"
  },
  "language_info": {
   "codemirror_mode": {
    "name": "ipython",
    "version": 3
   },
   "file_extension": ".py",
   "mimetype": "text/x-python",
   "name": "python",
   "nbconvert_exporter": "python",
   "pygments_lexer": "ipython3",
   "version": "3.8.17"
  }
 },
 "nbformat": 4,
 "nbformat_minor": 2
}
