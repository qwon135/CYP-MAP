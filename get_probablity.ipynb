{
 "cells": [
  {
   "cell_type": "code",
   "execution_count": 1,
   "metadata": {},
   "outputs": [],
   "source": [
    "import torch\n",
    "import torch_geometric.transforms as T\n",
    "from torch_geometric.loader import DataLoader\n",
    "from matplotlib import pyplot as plt\n",
    "import inspect, random, os\n",
    "import numpy as np\n",
    "import pandas as pd\n",
    "from rdkit.Chem import AllChem\n",
    "from rdkit import Chem\n",
    "from multiprocessing import Pool\n",
    "from rdkit.Chem import Draw, PandasTools\n",
    "from torch_geometric.loader import DataLoader\n",
    "from sklearn.metrics import accuracy_score, f1_score, jaccard_score, precision_score, recall_score, roc_auc_score, average_precision_score, confusion_matrix\n",
    "from sklearn.model_selection import train_test_split\n",
    "from sklearn.preprocessing import minmax_scale\n",
    "from torch_geometric.nn.aggr import AttentionalAggregation\n",
    "import torch\n",
    "from modules.som_dataset import CustomDataset\n",
    "# from models.som_models import GNNSOM\n",
    "from modules.som_models import GNNSOM\n",
    "from utils import validation\n",
    "from tabulate import tabulate\n",
    "from tqdm import tqdm\n",
    "import numpy as np\n",
    "from scipy import stats\n",
    "from collections import defaultdict\n",
    "from glob import glob\n",
    "import json\n",
    "import warnings\n",
    "warnings.filterwarnings('ignore', '.*Sparse CSR tensor support is in beta state.*')\n",
    "warnings.filterwarnings('ignore', '')"
   ]
  },
  {
   "cell_type": "code",
   "execution_count": 14,
   "metadata": {},
   "outputs": [],
   "source": [
    "def CYP_REACTION(x):\n",
    "    cyp_col = ['BOM_1A2', 'BOM_2A6', 'BOM_2B6', 'BOM_2C8', 'BOM_2C9', 'BOM_2C19', 'BOM_2D6', 'BOM_2E1', 'BOM_3A4']\n",
    "    cyp_reactions = x[cyp_col].tolist()\n",
    "    cyp_reactions = [i for i in cyp_reactions if i] \n",
    "    return '\\n'.join( cyp_reactions )"
   ]
  },
  {
   "cell_type": "code",
   "execution_count": 15,
   "metadata": {},
   "outputs": [],
   "source": [
    "cyp_list = [f'BOM_{i}' for i in  '1A2 2A6 2B6 2C8 2C9 2C19 2D6 2E1 3A4'.split()] + ['CYP_REACTION']"
   ]
  },
  {
   "cell_type": "code",
   "execution_count": 16,
   "metadata": {},
   "outputs": [],
   "source": [
    "class CONFIG:\n",
    "    substrate_loss_weight = 0.33    \n",
    "    bond_loss_weight = 0.33\n",
    "    atom_loss_weight = 0.33\n",
    "    som_type_loss_weight = 0.33\n",
    "    class_type = 2    \n",
    "    th = 0.1    \n",
    "    substrate_th = 0.5\n",
    "    adjust_substrate = False\n",
    "    average = 'binary'    \n",
    "    equivalent_bonds_mean = True\n",
    "    train_only_spn_H_atom = False    \n",
    "    device = 'cuda:0'\n",
    "    test_only_reaction_mol = False\n",
    "    drop_node_p = 0.0\n",
    "    mask_node_p = 0.0\n",
    "    filt_som = 0\n",
    "    equivalent_mean = False\n",
    "    reduction = 'sum'\n",
    "    metric_mode = 'bond'\n",
    "    n_classes = 5\n",
    "args = CONFIG()\n",
    "\n"
   ]
  },
  {
   "cell_type": "code",
   "execution_count": 17,
   "metadata": {},
   "outputs": [],
   "source": [
    "model = GNNSOM(\n",
    "            num_layers=2,\n",
    "            gnn_num_layers = 8,\n",
    "            pooling='sum',\n",
    "            dropout=0.1, \n",
    "            cyp_list=cyp_list, \n",
    "            use_face = True, \n",
    "            node_attn = True,\n",
    "            face_attn = True,            \n",
    "            n_classes=args.n_classes,\n",
    "            ).to('cuda:0')"
   ]
  },
  {
   "cell_type": "code",
   "execution_count": 18,
   "metadata": {},
   "outputs": [
    {
     "name": "stderr",
     "output_type": "stream",
     "text": [
      "Processing...\n",
      "Done!\n"
     ]
    }
   ],
   "source": [
    "test_df = PandasTools.LoadSDF('data/test_0628.sdf')\n",
    "test_df['CYP_REACTION'] = test_df.apply(CYP_REACTION, axis=1)\n",
    "test_df['POS_ID'] = 'TEST' + test_df.index.astype(str).str.zfill(4)\n",
    "\n",
    "test_dataset = CustomDataset(df=test_df, cyp_list=cyp_list, args=args)\n",
    "test_loader = DataLoader(test_dataset, num_workers=2, batch_size=8, shuffle=False)\n",
    "\n",
    "loss_fn_ce, loss_fn_bce = torch.nn.CrossEntropyLoss(), torch.nn.BCEWithLogitsLoss()"
   ]
  },
  {
   "cell_type": "code",
   "execution_count": 19,
   "metadata": {},
   "outputs": [],
   "source": [
    "args.ckpt = ...\n",
    "model.load_state_dict(torch.load(args.ckpt, 'cpu'))\n",
    "test_scores = validation(model, test_loader, loss_fn_ce, loss_fn_bce, args)\n",
    "validator = test_scores['validator'] "
   ]
  },
  {
   "cell_type": "code",
   "execution_count": 24,
   "metadata": {},
   "outputs": [
    {
     "name": "stdout",
     "output_type": "stream",
     "text": [
      "dict_keys(['subs', 'bond_som', 'atom_som', 'atom_spn', 'dea', 'epo', 'oxi', 'dha', 'dhy', 'rdc'])\n",
      "dict_keys(['BOM_1A2', 'BOM_2A6', 'BOM_2B6', 'BOM_2C8', 'BOM_2C9', 'BOM_2C19', 'BOM_2D6', 'BOM_2E1', 'BOM_3A4', 'CYP_REACTION'])\n"
     ]
    }
   ],
   "source": [
    "print(validator.y_prob.keys())\n",
    "print(validator.y_prob['bond_som'].keys())"
   ]
  },
  {
   "cell_type": "code",
   "execution_count": 27,
   "metadata": {},
   "outputs": [],
   "source": [
    "y_bond_som_1A2 = np.array(validator.y_prob['bond_som']['BOM_1A2'])"
   ]
  },
  {
   "cell_type": "code",
   "execution_count": 29,
   "metadata": {},
   "outputs": [
    {
     "data": {
      "text/plain": [
       "(array([  14.,   37.,   22.,   16.,   26.,  267., 1947., 3078.,  838.,\n",
       "          93.]),\n",
       " array([0.47150618, 0.48197706, 0.49244795, 0.50291883, 0.51338972,\n",
       "        0.5238606 , 0.53433149, 0.54480237, 0.55527326, 0.56574414,\n",
       "        0.57621503]),\n",
       " <BarContainer object of 10 artists>)"
      ]
     },
     "execution_count": 29,
     "metadata": {},
     "output_type": "execute_result"
    },
    {
     "data": {
      "image/png": "[encoded data removed]",
      "text/plain": [
       "<Figure size 640x480 with 1 Axes>"
      ]
     },
     "metadata": {},
     "output_type": "display_data"
    }
   ],
   "source": [
    "plt.hist(y_bond_som_1A2)"
   ]
  },
  {
   "cell_type": "code",
   "execution_count": null,
   "metadata": {},
   "outputs": [],
   "source": []
  }
 ],
 "metadata": {
  "kernelspec": {
   "display_name": "crash",
   "language": "python",
   "name": "python3"
  },
  "language_info": {
   "codemirror_mode": {
    "name": "ipython",
    "version": 3
   },
   "file_extension": ".py",
   "mimetype": "text/x-python",
   "name": "python",
   "nbconvert_exporter": "python",
   "pygments_lexer": "ipython3",
   "version": "3.8.17"
  }
 },
 "nbformat": 4,
 "nbformat_minor": 2
}
