{
 "cells": [
  {
   "cell_type": "code",
   "execution_count": 1,
   "metadata": {},
   "outputs": [],
   "source": [
    "import torch\n",
    "from torch_geometric.loader import DataLoader\n",
    "from matplotlib import pyplot as plt\n",
    "import numpy as np\n",
    "from multiprocessing import Pool\n",
    "from rdkit.Chem import Draw, PandasTools\n",
    "from torch_geometric.loader import DataLoader\n",
    "import torch\n",
    "from modules.som_dataset import CustomDataset\n",
    "from modules.som_models import GNNSOM\n",
    "from utils import validation\n",
    "import numpy as np\n",
    "import warnings\n",
    "warnings.filterwarnings('ignore', '.*Sparse CSR tensor support is in beta state.*')\n",
    "warnings.filterwarnings('ignore', '')"
   ]
  },
  {
   "cell_type": "code",
   "execution_count": 3,
   "metadata": {},
   "outputs": [],
   "source": [
    "def CYP_REACTION(x):\n",
    "    cyp_col = ['BOM_1A2', 'BOM_2A6', 'BOM_2B6', 'BOM_2C8', 'BOM_2C9', 'BOM_2C19', 'BOM_2D6', 'BOM_2E1', 'BOM_3A4']\n",
    "    cyp_reactions = x[cyp_col].tolist()\n",
    "    cyp_reactions = [i for i in cyp_reactions if i] \n",
    "    return '\\n'.join( cyp_reactions )"
   ]
  },
  {
   "cell_type": "code",
   "execution_count": 4,
   "metadata": {},
   "outputs": [],
   "source": [
    "cyp_list = [f'BOM_{i}' for i in  '1A2 2A6 2B6 2C8 2C9 2C19 2D6 2E1 3A4'.split()] + ['CYP_REACTION']"
   ]
  },
  {
   "cell_type": "code",
   "execution_count": 13,
   "metadata": {},
   "outputs": [],
   "source": [
    "class CONFIG:\n",
    "    substrate_loss_weight = 0.33    \n",
    "    bond_loss_weight = 0.33\n",
    "    atom_loss_weight = 0.33\n",
    "    pos_weight = torch.ones(10)\n",
    "    som_type_loss_weight = 0.33\n",
    "    class_type = 2    \n",
    "    th = 0.1    \n",
    "    substrate_th = 0.5\n",
    "    adjust_substrate = False\n",
    "    test_only_reaction_mol = False\n",
    "    equivalent_bonds_mean = False\n",
    "    average = 'binary'            \n",
    "    device = 'cuda:0'    \n",
    "    reduction = 'sum'\n",
    "    metric_mode = 'bond'\n",
    "    n_classes = 5\n",
    "args = CONFIG()\n",
    "\n"
   ]
  },
  {
   "cell_type": "code",
   "execution_count": 14,
   "metadata": {},
   "outputs": [],
   "source": [
    "model = GNNSOM(\n",
    "            num_layers=2,\n",
    "            gnn_num_layers = 8,\n",
    "            pooling='sum',\n",
    "            dropout=0.1, \n",
    "            cyp_list=cyp_list, \n",
    "            use_face = True, \n",
    "            node_attn = True,\n",
    "            face_attn = True,            \n",
    "            n_classes=args.n_classes,\n",
    "            ).to('cuda:0')"
   ]
  },
  {
   "cell_type": "code",
   "execution_count": 15,
   "metadata": {},
   "outputs": [
    {
     "name": "stderr",
     "output_type": "stream",
     "text": [
      "Processing...\n",
      "Done!\n"
     ]
    }
   ],
   "source": [
    "test_df = PandasTools.LoadSDF('data/cyp_map_test.sdf')\n",
    "test_df['CYP_REACTION'] = test_df.apply(CYP_REACTION, axis=1)\n",
    "test_df['POS_ID'] = 'TEST' + test_df.index.astype(str).str.zfill(4)\n",
    "\n",
    "test_dataset = CustomDataset(df=test_df, cyp_list=cyp_list, args=args)\n",
    "test_loader = DataLoader(test_dataset, num_workers=2, batch_size=8, shuffle=False)\n",
    "\n",
    "loss_fn_ce, loss_fn_bce = torch.nn.CrossEntropyLoss(), torch.nn.BCEWithLogitsLoss()"
   ]
  },
  {
   "cell_type": "code",
   "execution_count": 16,
   "metadata": {},
   "outputs": [],
   "source": [
    "args.ckpt = 'ckpt/0.pt' # best_model_ckpt.zip 파일 압축 풀어서 넣기\n",
    "model.load_state_dict(torch.load(args.ckpt, 'cpu'))\n",
    "test_scores = validation(model, test_loader, loss_fn_ce, loss_fn_bce, args)\n",
    "validator = test_scores['validator'] "
   ]
  },
  {
   "cell_type": "code",
   "execution_count": 17,
   "metadata": {},
   "outputs": [
    {
     "name": "stdout",
     "output_type": "stream",
     "text": [
      "dict_keys(['subs', 'bond_som', 'atom_som', 'atom_spn', 'oxc', 'oxi', 'epo', 'sut', 'dhy', 'hys', 'rdc'])\n",
      "dict_keys(['BOM_1A2', 'BOM_2A6', 'BOM_2B6', 'BOM_2C8', 'BOM_2C9', 'BOM_2C19', 'BOM_2D6', 'BOM_2E1', 'BOM_3A4', 'CYP_REACTION'])\n"
     ]
    }
   ],
   "source": [
    "print(validator.y_prob.keys())\n",
    "print(validator.y_prob['bond_som'].keys())"
   ]
  },
  {
   "cell_type": "code",
   "execution_count": 18,
   "metadata": {},
   "outputs": [],
   "source": [
    "y_bond_som_1A2 = np.array(validator.y_prob['bond_som']['BOM_1A2'])"
   ]
  },
  {
   "cell_type": "code",
   "execution_count": 19,
   "metadata": {},
   "outputs": [
    {
     "data": {
      "text/plain": [
       "(array([4357.,  207.,  136.,   45.,   58.,   43.,   20.,   20.,   37.,\n",
       "          16.]),\n",
       " array([0.00118948, 0.08425088, 0.16731228, 0.25037369, 0.33343509,\n",
       "        0.41649649, 0.49955789, 0.58261929, 0.6656807 , 0.7487421 ,\n",
       "        0.8318035 ]),\n",
       " <BarContainer object of 10 artists>)"
      ]
     },
     "execution_count": 19,
     "metadata": {},
     "output_type": "execute_result"
    },
    {
     "data": {
      "image/png": "[encoded data removed]",
      "text/plain": [
       "<Figure size 640x480 with 1 Axes>"
      ]
     },
     "metadata": {},
     "output_type": "display_data"
    }
   ],
   "source": [
    "plt.hist(y_bond_som_1A2)"
   ]
  },
  {
   "cell_type": "code",
   "execution_count": null,
   "metadata": {},
   "outputs": [],
   "source": []
  }
 ],
 "metadata": {
  "kernelspec": {
   "display_name": "crash",
   "language": "python",
   "name": "python3"
  },
  "language_info": {
   "codemirror_mode": {
    "name": "ipython",
    "version": 3
   },
   "file_extension": ".py",
   "mimetype": "text/x-python",
   "name": "python",
   "nbconvert_exporter": "python",
   "pygments_lexer": "ipython3",
   "version": "3.8.17"
  }
 },
 "nbformat": 4,
 "nbformat_minor": 2
}
