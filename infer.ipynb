{
 "cells": [
  {
   "cell_type": "code",
   "execution_count": 3,
   "metadata": {},
   "outputs": [],
   "source": [
    "import torch\n",
    "import torch_geometric.transforms as T\n",
    "from torch_geometric.loader import DataLoader\n",
    "from matplotlib import pyplot as plt\n",
    "import inspect, random, os\n",
    "import numpy as np\n",
    "import pandas as pd\n",
    "from rdkit.Chem import AllChem\n",
    "from rdkit import Chem\n",
    "from multiprocessing import Pool\n",
    "from rdkit.Chem import Draw, PandasTools\n",
    "from torch_geometric.loader import DataLoader\n",
    "from sklearn.metrics import accuracy_score, f1_score, jaccard_score, precision_score, recall_score, roc_auc_score, average_precision_score, confusion_matrix\n",
    "from sklearn.model_selection import train_test_split\n",
    "from sklearn.preprocessing import minmax_scale\n",
    "from torch_geometric.nn.aggr import AttentionalAggregation\n",
    "import torch\n",
    "from modules.som_dataset import CustomDataset\n",
    "# from models.som_models import GNNSOM\n",
    "from modules.som_models import GNNSOM\n",
    "from utils import validation\n",
    "from tabulate import tabulate\n",
    "from tqdm import tqdm\n",
    "import numpy as np\n",
    "from PIL import Image\n",
    "from scipy import stats\n",
    "from collections import defaultdict\n",
    "from glob import glob\n",
    "import json\n",
    "import warnings\n",
    "warnings.filterwarnings('ignore', '.*Sparse CSR tensor support is in beta state.*')\n",
    "warnings.filterwarnings('ignore', '')"
   ]
  },
  {
   "cell_type": "code",
   "execution_count": 2,
   "metadata": {},
   "outputs": [],
   "source": [
    "import json\n",
    "\n",
    "def save_json(json_path, dict_file):\n",
    "    with open(json_path, 'w') as file:\n",
    "        json.dump(dict_file, file)\n",
    "\n",
    "def load_json(json_path):\n",
    "    with open(json_path, \"r\") as st_json:\n",
    "        json_obj = json.load(st_json)\n",
    "    return json_obj   "
   ]
  },
  {
   "cell_type": "code",
   "execution_count": 3,
   "metadata": {},
   "outputs": [],
   "source": [
    "def confidence_interval(data, confidence=0.95):\n",
    "    n = len(data)\n",
    "    m = np.mean(data)\n",
    "    se = stats.sem(data)\n",
    "    h = se * stats.t.ppf((1 + confidence) / 2., n - 1)\n",
    "            \n",
    "    lower_bound = max(m - h, 0)\n",
    "    mean = max(m, 0)\n",
    "    upper_bound = max(m + h, 0)\n",
    "    return lower_bound, mean, upper_bound"
   ]
  },
  {
   "cell_type": "code",
   "execution_count": 4,
   "metadata": {},
   "outputs": [],
   "source": [
    "def to_csv(path, table_data, headers):\n",
    "    score_logs = tabulate(table_data, headers, tablefmt=\"tsv\")\n",
    "    text_file=open(path,\"w\")\n",
    "    text_file.write(score_logs)\n",
    "    text_file.close()\n",
    "    df = pd.read_csv(path, sep='\\t')\n",
    "    df.to_csv(path, index=None)\n",
    "\n",
    "def get_logs(scores, cyp_list, args):        \n",
    "    logs = ''\n",
    "    table_data1 = []\n",
    "    table_data2 = []\n",
    "    table_data3 = []\n",
    "    table_data4 = []\n",
    "    for cyp in cyp_list:        \n",
    "        headers1 = ['CYP', \n",
    "                   'auc_subs', 'apc_subs', 'f1s_subs', 'rec_subs', 'prc_subs', 'n_subs',                    \n",
    "                   ]\n",
    "        \n",
    "        headers2 = ['CYP',\n",
    "                    'jac_bond_som', 'f1s_bond_som', 'apc_bond_som', 'n_bond_som',\n",
    "                    'jac_atom_spn', 'f1s_atom_spn', 'apc_atom_spn', 'n_atom_spn',                    \n",
    "                    'jac_som', 'f1s_som', 'apc_som', 'n_som',\n",
    "                    ]   \n",
    "        headers3 = ['CYP', \n",
    "                    'jac_oxc', 'f1s_oxc', 'apc_oxc', 'n_oxc',\n",
    "                    'jac_oxi', 'f1s_oxi', 'apc_oxi', 'n_oxi',\n",
    "                    'jac_epo', 'f1s_epo', 'apc_epo', 'n_epo',\n",
    "                    'jac_sut', 'f1s_sut', 'apc_sut', 'n_sut',\n",
    "                    'jac_dhy', 'f1s_dhy', 'apc_dhy', 'n_dhy',\n",
    "                    'jac_hys', 'f1s_hys', 'apc_hys', 'n_hys',\n",
    "                    'jac_rdc', 'f1s_rdc', 'apc_rdc', 'n_rdc',\n",
    "\n",
    "                    ]        \n",
    "        headers4 = ['CYP',\n",
    "                    'n_subs', 'n_bond_som', 'n_atom_spn', 'n_som', 'n_oxc', 'n_oxi', 'n_epo', 'n_sut', 'n_dhy', 'n_hys', 'n_rdc',\n",
    "                    ]          \n",
    "        row1, row2, row3, row4 = [cyp], [cyp], [cyp], [cyp]\n",
    "        for header in headers1[1:]:\n",
    "            if 'loss' in header or header[:2] == 'n_':\n",
    "                row1.append(scores[cyp][header])\n",
    "            else:\n",
    "                row1.append(scores[cyp][args.th][header])\n",
    "                \n",
    "                \n",
    "        for header in headers2[1:]:\n",
    "            if 'loss' in header or header[:2] == 'n_':\n",
    "                row2.append(scores[cyp][header])\n",
    "            else:\n",
    "                row2.append(scores[cyp][args.th][header])\n",
    "        \n",
    "        for header in headers3[1:]:\n",
    "            if 'loss' in header or header[:2] == 'n_':\n",
    "                row3.append(scores[cyp][header])\n",
    "            else:\n",
    "                row3.append(scores[cyp][args.th][header])\n",
    "\n",
    "        for header in headers4[1:]:\n",
    "            if 'loss' in header or header[:2] == 'n_':\n",
    "                row4.append(scores[cyp][header])\n",
    "            else:\n",
    "                row4.append(scores[cyp][args.th][header])\n",
    "\n",
    "        table_data1.append(row1)\n",
    "        table_data2.append(row2)\n",
    "        table_data3.append(row3)        \n",
    "        table_data4.append(row4)        \n",
    "\n",
    "    # logs += (tabulate(table_data1, headers1, tablefmt=\"grid\", floatfmt=\".4f\") + '\\n')\n",
    "    logs += (tabulate(table_data2, headers2, tablefmt=\"grid\", floatfmt=\".4f\") + '\\n')\n",
    "    # logs += (tabulate(table_data3, headers3, tablefmt=\"grid\", floatfmt=\".4f\") + '\\n')\n",
    "    # logs += tabulate(table_data4, headers4, tablefmt=\"grid\", floatfmt=\".4f\")\n",
    "\n",
    "    return logs"
   ]
  },
  {
   "cell_type": "code",
   "execution_count": 5,
   "metadata": {},
   "outputs": [],
   "source": [
    "def CYP_REACTION(x):\n",
    "    cyp_col = ['BOM_1A2', 'BOM_2A6', 'BOM_2B6', 'BOM_2C8', 'BOM_2C9', 'BOM_2C19', 'BOM_2D6', 'BOM_2E1', 'BOM_3A4']\n",
    "    cyp_reactions = x[cyp_col].tolist()\n",
    "    cyp_reactions = [i for i in cyp_reactions if i] \n",
    "    return '\\n'.join( cyp_reactions )"
   ]
  },
  {
   "cell_type": "code",
   "execution_count": 6,
   "metadata": {},
   "outputs": [],
   "source": [
    "metrics = [\n",
    "    'auc_subs', 'apc_subs', 'f1s_subs', 'rec_subs', 'prc_subs',\n",
    "    'jac_bond_som', 'f1s_bond_som', 'prc_bond_som', 'rec_bond_som', 'auc_bond_som', 'apc_bond_som',\n",
    "    'jac_atom_spn', 'f1s_atom_spn', 'prc_atom_spn', 'rec_atom_spn', 'auc_atom_spn', 'apc_atom_spn',\n",
    "    \n",
    "    'jac_oxc', 'f1s_oxc', 'prc_oxc', 'rec_oxc', 'auc_oxc', 'apc_oxc',\n",
    "    'jac_oxi', 'f1s_oxi', 'prc_oxi', 'rec_oxi', 'auc_oxi', 'apc_oxi',\n",
    "    'jac_epo', 'f1s_epo', 'prc_epo', 'rec_epo', 'auc_epo', 'apc_epo',\n",
    "    'jac_sut', 'f1s_sut', 'prc_sut', 'rec_sut', 'auc_sut', 'apc_sut',\n",
    "    'jac_dhy', 'f1s_dhy', 'prc_dhy', 'rec_dhy', 'auc_dhy', 'apc_dhy',\n",
    "    'jac_hys', 'f1s_hys', 'prc_hys', 'rec_hys', 'auc_hys', 'apc_hys',\n",
    "    'jac_rdc', 'f1s_rdc', 'prc_rdc', 'rec_rdc', 'auc_rdc', 'apc_rdc',\n",
    "\n",
    "    'jac_som', 'f1s_som', 'prc_som', 'rec_som', 'auc_som', 'apc_som',\n",
    "    ]"
   ]
  },
  {
   "cell_type": "code",
   "execution_count": 7,
   "metadata": {},
   "outputs": [],
   "source": [
    "cyp_list = [f'BOM_{i}' for i in  '1A2 2A6 2B6 2C8 2C9 2C19 2D6 2E1 3A4'.split()] + ['CYP_REACTION']"
   ]
  },
  {
   "cell_type": "code",
   "execution_count": 8,
   "metadata": {},
   "outputs": [],
   "source": [
    "class CONFIG:\n",
    "    substrate_loss_weight = 0.33    \n",
    "    bond_loss_weight = 0.33\n",
    "    atom_loss_weight = 0.33\n",
    "    som_type_loss_weight = 0.33\n",
    "    class_type = 2    \n",
    "    th = 0.1    \n",
    "    substrate_th = 0.5\n",
    "    adjust_substrate = False\n",
    "    average = 'binary'    \n",
    "    equivalent_bonds_mean = True\n",
    "    train_only_spn_H_atom = False    \n",
    "    device = 'cuda:0'\n",
    "    test_only_reaction_mol = False\n",
    "    drop_node_p = 0.0\n",
    "    mask_node_p = 0.0\n",
    "    filt_som = 0\n",
    "    equivalent_mean = False\n",
    "    reduction = 'sum'\n",
    "    metric_mode = 'atom'\n",
    "    n_classes = 5\n",
    "args = CONFIG()\n",
    "\n"
   ]
  },
  {
   "cell_type": "code",
   "execution_count": 9,
   "metadata": {},
   "outputs": [],
   "source": [
    "model = GNNSOM(\n",
    "            num_layers=2,\n",
    "            gnn_num_layers = 8,\n",
    "            pooling='sum',\n",
    "            dropout=0.1, \n",
    "            cyp_list=cyp_list, \n",
    "            use_face = True, \n",
    "            node_attn = True,\n",
    "            face_attn = True,            \n",
    "            n_classes=args.n_classes,\n",
    "            ).to('cuda:0')"
   ]
  },
  {
   "cell_type": "code",
   "execution_count": 10,
   "metadata": {},
   "outputs": [],
   "source": [
    "df = PandasTools.LoadSDF('data/train_nonreact_0710.sdf')\n",
    "df['CYP_REACTION'] = df.apply(CYP_REACTION, axis=1)\n",
    "df['POS_ID'] = 'TRAIN' + df.index.astype(str).str.zfill(4)\n",
    "df['is_react'] = (df['CYP_REACTION'] == '').astype(int).astype(str)\n",
    "\n",
    "train_df, valid_df = train_test_split(df, stratify=df['is_react'], random_state=1, test_size=0.2)\n",
    "train_df, valid_df = train_df.reset_index(drop=True), valid_df.reset_index(drop=True) \n",
    "# train_dataset = CustomDataset(df=df, class_type=2, cyp_list=cyp_list, args=args, add_H=True)\n",
    "# train_loader = DataLoader(train_dataset, num_workers=2, batch_size=16, shuffle=False)"
   ]
  },
  {
   "cell_type": "code",
   "execution_count": 11,
   "metadata": {},
   "outputs": [],
   "source": [
    "# for seed in range(30):\n",
    "#     t_df, v_df = train_test_split(df, test_size=0.2, stratify=(df['CYP_REACTION'] == ''),  random_state=seed)\n",
    "#     t_df, v_df = t_df.reset_index(drop=True), v_df.reset_index(drop=True)\n",
    "\n",
    "#     print(seed, t_df[t_df['BOM_1A2'] != ''].shape[0], v_df[v_df['BOM_1A2'] != ''].shape[0])"
   ]
  },
  {
   "cell_type": "code",
   "execution_count": 12,
   "metadata": {},
   "outputs": [
    {
     "name": "stdout",
     "output_type": "stream",
     "text": [
      "BOM_1A2 358\n",
      "BOM_2A6 132\n",
      "BOM_2B6 184\n",
      "BOM_2C8 195\n",
      "BOM_2C9 297\n",
      "BOM_2C19 290\n",
      "BOM_2D6 359\n",
      "BOM_2E1 160\n",
      "BOM_3A4 661\n",
      "CYP_REACTION 940\n"
     ]
    }
   ],
   "source": [
    "for cyp in cyp_list:\n",
    "    print(cyp, df[df[cyp] != ''].shape[0])"
   ]
  },
  {
   "cell_type": "code",
   "execution_count": 13,
   "metadata": {},
   "outputs": [
    {
     "name": "stderr",
     "output_type": "stream",
     "text": [
      "Processing...\n",
      "Done!\n"
     ]
    }
   ],
   "source": [
    "test_df = PandasTools.LoadSDF('data/test_0710.sdf')\n",
    "test_df['CYP_REACTION'] = test_df.apply(CYP_REACTION, axis=1)\n",
    "test_df['POS_ID'] = 'TEST' + test_df.index.astype(str).str.zfill(4)\n",
    "\n",
    "test_dataset = CustomDataset(df=test_df, cyp_list=cyp_list, args=args)\n",
    "test_loader = DataLoader(test_dataset, num_workers=2, batch_size=8, shuffle=False)\n",
    "\n",
    "loss_fn_ce, loss_fn_bce = torch.nn.CrossEntropyLoss(), torch.nn.BCEWithLogitsLoss()"
   ]
  },
  {
   "cell_type": "code",
   "execution_count": 14,
   "metadata": {},
   "outputs": [],
   "source": [
    "loss_fn_bce = torch.nn.BCEWithLogitsLoss()\n",
    "loss_fn_ce = torch.nn.CrossEntropyLoss()"
   ]
  },
  {
   "cell_type": "markdown",
   "metadata": {},
   "source": [
    "### 신뢰구간별"
   ]
  },
  {
   "cell_type": "code",
   "execution_count": 15,
   "metadata": {},
   "outputs": [],
   "source": [
    "def cal_scores(validator, args):\n",
    "    scores = {}\n",
    "\n",
    "    if args.adjust_substrate:\n",
    "        validator.adjust_substrate(args.substrate_th)\n",
    "\n",
    "    tasks = ['subs', 'som', 'bond_som', 'atom_som',  'atom_spn','oxc', 'oxi', 'epo', 'sut', 'dhy', 'hys', 'rdc']\n",
    "    metrics = ['jac', 'f1s', 'prc', 'rec', 'auc', 'apc']\n",
    "\n",
    "    if args.equivalent_mean:\n",
    "        validator.unbatch()\n",
    "        validator.eq_mean()\n",
    "\n",
    "    for cyp in model.cyp_list:\n",
    "        scores[cyp] = {}        \n",
    "        \n",
    "        for task in tasks:\n",
    "            y_true, y_prob = validator.get_probs(task, cyp)\n",
    "            scores[cyp][f'n_{task}'] = f'{int(sum(y_true))} / {len(y_true)}'\n",
    "\n",
    "            if task == 'subs':\n",
    "                task_scores = validator.get_scores(task=task, cyp=cyp, average=args.average, th=args.substrate_th)\n",
    "            else:\n",
    "                task_scores = validator.get_scores(task=task, cyp=cyp, average=args.average, th=args.th)\n",
    "\n",
    "            for mname, tscore in zip(metrics, task_scores):\n",
    "                scores[cyp][f'{mname}_{task}'] = tscore\n",
    "    scores['CYP_REACTION_max'] = {}  \n",
    "    for task in tasks:\n",
    "        y_true_cyp_max = []\n",
    "        y_prob_cyp_max = []\n",
    "        for cyp in ['BOM_1A2','BOM_2A6','BOM_2B6','BOM_2C8','BOM_2C9','BOM_2C19','BOM_2D6','BOM_2E1','BOM_3A4']:\n",
    "            y_true, y_prob = validator.get_probs(task, cyp)\n",
    "            y_true_cyp_max.append(y_true)\n",
    "            y_prob_cyp_max.append(y_prob)\n",
    "        y_true_cyp_max = np.stack(y_true_cyp_max).max(0).astype(int)\n",
    "        y_prob_cyp_max = np.stack(y_prob_cyp_max).max(0)\n",
    "        if task == 'subs':\n",
    "            task_scores = validator.get_scores(task=task, cyp=cyp, average=args.average, th=args.substrate_th, y_true=y_true_cyp_max, y_prob=y_prob_cyp_max)\n",
    "        else:\n",
    "            task_scores = validator.get_scores(task=task, cyp=cyp, average=args.average, th=args.th, y_true=y_true_cyp_max, y_prob=y_prob_cyp_max)\n",
    "        for mname, tscore in zip(metrics, task_scores):\n",
    "            scores['CYP_REACTION_max'][f'{mname}_{task}'] = tscore              \n",
    "    return scores"
   ]
  },
  {
   "cell_type": "code",
   "execution_count": 16,
   "metadata": {},
   "outputs": [],
   "source": [
    "args.metric_mode = 'bond'"
   ]
  },
  {
   "cell_type": "code",
   "execution_count": 17,
   "metadata": {},
   "outputs": [
    {
     "name": "stderr",
     "output_type": "stream",
     "text": [
      "  0%|          | 0/30 [00:15<?, ?it/s]\n"
     ]
    }
   ],
   "source": [
    "for seed in tqdm(range(30)):        \n",
    "    args.ckpt = f'ckpt/{seed}.pt'\n",
    "    args.ckpt = f'ckpt/1.pt'    \n",
    "    model.load_state_dict(torch.load(args.ckpt, 'cpu'))\n",
    "    model = model.eval()\n",
    "    \n",
    "    args.add_H = True\n",
    "\n",
    "    seed_df = []\n",
    "    \n",
    "    test_scores = validation(model, test_loader, loss_fn_ce, loss_fn_bce, args)\n",
    "    validator = test_scores['validator'] \n",
    "    for th in [0.01, 0.05, 0.1, 0.15, 0.2, 0.3, 0.4, 0.5]:\n",
    "        args.th = th\n",
    "        scores = cal_scores(validator, args)\n",
    "        for cyp in cyp_list + ['CYP_REACTION_max']:\n",
    "            for metric in metrics:\n",
    "                seed_df.append({'cyp' : cyp, 'seed' : seed, 'metric' : metric, 'score' : scores[cyp][metric], 'threshold' : th})\n",
    "\n",
    "    seed_df = pd.DataFrame(seed_df)\n",
    "    seed_df.to_csv(f'infer/seed/{seed}.csv', index=None)\n",
    "    break"
   ]
  },
  {
   "cell_type": "code",
   "execution_count": 32,
   "metadata": {},
   "outputs": [
    {
     "data": {
      "text/plain": [
       "0.1826625386996904"
      ]
     },
     "execution_count": 32,
     "metadata": {},
     "output_type": "execute_result"
    }
   ],
   "source": [
    "test_scores['BOM_1A2'][0.1]['jac_bond_som']"
   ]
  },
  {
   "cell_type": "code",
   "execution_count": null,
   "metadata": {},
   "outputs": [],
   "source": []
  },
  {
   "cell_type": "code",
   "execution_count": 18,
   "metadata": {},
   "outputs": [],
   "source": [
    "seed_df_dict = {}\n",
    "for seed in range(30):\n",
    "    seed_df = pd.read_csv(f'infer/seed/{seed}.csv', index_col=None)\n",
    "    seed_df_dict[seed] = seed_df\n",
    "    break\n",
    "    "
   ]
  },
  {
   "cell_type": "code",
   "execution_count": 19,
   "metadata": {},
   "outputs": [],
   "source": [
    "# # 시드 30개의 신뢰구간 성능\n",
    "# th = 0.05\n",
    "# args.th = th\n",
    "\n",
    "# ci_scores = scores.copy()\n",
    "\n",
    "# for cyp in tqdm(cyp_list):\n",
    "#     ci_scores[cyp][th] = {}\n",
    "#     for metric in metrics:\n",
    "#         score_value = []\n",
    "#         for seed in seed_df_dict.keys():\n",
    "#             score_value.append(seed_df_dict[seed].query('cyp==@cyp').query('metric==@metric').query('threshold==@th').score.item())\n",
    "#         s, m, l = confidence_interval(score_value)\n",
    "#         ci_scores[cyp][th][metric] = m\n",
    "#         # ci_scores[cyp][th][metric] =  f'{m:.4f}({s:.2f}-{l:.2f})'\n",
    "# print(get_logs(ci_scores, cyp_list, args))"
   ]
  },
  {
   "cell_type": "code",
   "execution_count": 20,
   "metadata": {},
   "outputs": [],
   "source": [
    "# seed 평균 저장 (시각화 용)\n",
    "\n",
    "for th in [0.01, 0.05, 0.1, 0.15, 0.2, 0.3, 0.4, 0.5]:\n",
    "    score_df = []\n",
    "\n",
    "    for cyp in cyp_list + ['CYP_REACTION_max']:\n",
    "        for metric in metrics:\n",
    "            \n",
    "            score_value = []\n",
    "            for seed in seed_df_dict.keys():\n",
    "                score_value.append(seed_df_dict[seed].query('cyp==@cyp').query('metric==@metric').query('threshold==@th').score.item())\n",
    "            _,score,_ = confidence_interval(score_value)\n",
    "            score_df.append({'cyp' : cyp, 'metric' : metric, 'score' : score})\n",
    "    score_df = pd.DataFrame(score_df)\n",
    "    score_df.to_csv( f'scores/GNN-CYPSOM_{th}.csv', index=None)"
   ]
  },
  {
   "cell_type": "code",
   "execution_count": null,
   "metadata": {},
   "outputs": [],
   "source": []
  },
  {
   "cell_type": "code",
   "execution_count": 21,
   "metadata": {},
   "outputs": [],
   "source": [
    "def save_performance(metrics, mtype_name, root):\n",
    "    images = [Image.open(f'{root}/performance_{metric}.png') for metric in metrics]\n",
    "\n",
    "    widths, heights = zip(*(i.size for i in images))\n",
    "\n",
    "    max_width = max(widths)\n",
    "    total_height = sum(heights)\n",
    "\n",
    "    # 이미지 사이의 여백 (픽셀 단위)\n",
    "    padding = 10\n",
    "\n",
    "    # 새로운 이미지 캔버스 생성\n",
    "    new_im = Image.new('RGB', (max_width, total_height + padding * (len(images) - 1)), (255, 255, 255))\n",
    "\n",
    "    # 이미지를 세로로 합치기\n",
    "    y_offset = 0\n",
    "    for im in images:\n",
    "        new_im.paste(im, (0, y_offset))\n",
    "        y_offset += im.size[1] + padding\n",
    "\n",
    "    # 합친 이미지 저장\n",
    "    new_im.save(f'{root}/performance_{mtype_name}.png')\n",
    "\n",
    "    for metric in metrics:\n",
    "        os.remove(f'{root}/performance_{metric}.png')    "
   ]
  },
  {
   "cell_type": "code",
   "execution_count": 22,
   "metadata": {},
   "outputs": [],
   "source": [
    "cyp_list = ['BOM_1A2', 'BOM_2A6', 'BOM_2B6', 'BOM_2C8', 'BOM_2C9', 'BOM_2C19', 'BOM_2D6', 'BOM_2E1', 'BOM_3A4'] "
   ]
  },
  {
   "cell_type": "code",
   "execution_count": 23,
   "metadata": {},
   "outputs": [],
   "source": [
    "metrics_name = ['Substrate', 'Bond-SOM', 'SPN-Oxidation', 'SOM', 'OxidativeCleavage', 'Oxidation', 'Epoxidation', 'Substitution', 'Dehydrogenation', 'Hydrolysis', 'Reduction']\n",
    "\n",
    "metrics_types = [\n",
    "    ['auc_subs', 'apc_subs', 'f1s_subs'],\n",
    "    ['jac_bond_som', 'f1s_bond_som', 'prc_bond_som', 'rec_bond_som', 'auc_bond_som', 'apc_bond_som'],\n",
    "    ['jac_atom_spn', 'f1s_atom_spn', 'prc_atom_spn', 'rec_atom_spn', 'auc_atom_spn', 'apc_atom_spn'],\n",
    "\n",
    "    ['jac_som', 'f1s_som', 'prc_som', 'rec_som', 'auc_som', 'apc_som'],\n",
    "\n",
    "    ['jac_oxc', 'f1s_oxc', 'prc_oxc', 'rec_oxc', 'auc_oxc', 'apc_oxc'],\n",
    "    ['jac_oxi', 'f1s_oxi', 'prc_oxi', 'rec_oxi', 'auc_oxi', 'apc_oxi'],\n",
    "    ['jac_epo', 'f1s_epo', 'prc_epo', 'rec_epo', 'auc_epo', 'apc_epo'],\n",
    "    ['jac_sut', 'f1s_sut', 'prc_sut', 'rec_sut', 'auc_sut', 'apc_sut'],\n",
    "    ['jac_dhy', 'f1s_dhy', 'prc_dhy', 'rec_dhy', 'auc_dhy', 'apc_dhy'],\n",
    "    ['jac_hys', 'f1s_hys', 'prc_hys', 'rec_hys', 'auc_hys', 'apc_hys'],\n",
    "    ['jac_rdc', 'f1s_rdc', 'prc_rdc', 'rec_rdc', 'auc_rdc', 'apc_rdc']]\n",
    "\n",
    "\n",
    "plot_name_types = [\n",
    "    ['AUROC Substrate', 'AUPRC Substrate', 'F1-Score Substrate'],    \n",
    "    ['Jaccard Score Bond', 'F1-Score Bond', 'Precision Bond', 'Recall Bond', 'AUROC Bond', 'AUPRC Bond'],\n",
    "    ['Jaccard Score SPN-Oxidation', 'F1-Score SPN-Oxidation', 'Precision SPN-Oxidation', 'Recall SPN-Oxidation', 'AUROC SPN-Oxidation', 'AUPRC SPN-Oxidation'],\n",
    "\n",
    "    ['Jaccard Score SOM', 'F1-Score SOM', 'Precision som', 'Recall som', 'AUROC som', 'AUPRC SOM'],\n",
    "\n",
    "    ['Jaccard Score OxidativeCleavage', 'F1-Score OxidativeCleavage', 'Precision OxidativeCleavage', 'Recall OxidativeCleavage', 'AUROC OxidativeCleavage', 'AUPRC OxidativeCleavage'],    \n",
    "    ['Jaccard Score Oxidation', 'F1-Score Oxidation', 'Precision Oxidation', 'Recall Oxidation', 'AUROC Oxidation', 'AUPRC Oxidation'],\n",
    "    ['Jaccard Score EpOxidation', 'F1-Score EpOxidation', 'Precision EpOxidation', 'Recall EpOxidation', 'AUROC EpOxidation', 'AUPRC EpOxidation'],    \n",
    "    ['Jaccard Score Substitution', 'F1-Score Substitution', 'Precision Substitution', 'Recall Substitution', 'AUROC Substitution', 'AUPRC Substitution'],    \n",
    "    ['Jaccard Score Dehydrogenation', 'F1-Score Dehydrogenation', 'Precision Dehydrogenation', 'Recall Dehydrogenation', 'AUROC Dehydrogenation', 'AUPRC Dehydrogenation'],    \n",
    "    ['Jaccard Score Hydrolysis', 'F1-Score Hydrolysis', 'Precision Hydrolysis', 'Recall Hydrolysis', 'AUROC Hydrolysis', 'AUPRC Hydrolysis'],        \n",
    "    ['Jaccard Score Reduction', 'F1-Score Reduction', 'Precision Reduction', 'Recall Reduction', 'AUROC Reduction', 'AUPRC Reduction'],\n",
    "    \n",
    "    ]"
   ]
  },
  {
   "cell_type": "code",
   "execution_count": 24,
   "metadata": {},
   "outputs": [],
   "source": [
    "import matplotlib.pyplot as plt\n",
    "import seaborn as sns\n",
    "import pandas as pd\n",
    "\n",
    "scores_cyproduct = pd.read_csv(f'scores/CYProduct.csv', index_col=None)\n",
    "scores_DCyPre = pd.read_csv(f'scores/DCyPre.csv', index_col=None)\n",
    "scores_df = [pd.read_csv(f'scores/GNN-CYPSOM_{i}.csv', index_col=None) for i in [0.01, 0.05, 0.1, 0.15, 0.2, 0.3, 0.4, 0.5]]\n",
    "\n",
    "\n",
    "root = f'plot_score/versus_other_research'\n",
    "select_th=True\n",
    "if not select_th:\n",
    "    models = ['CYProduct', 'DCyPre', 'GNN-CYPSOM_0.01', 'GNN-CYPSOM_0.1', 'GNN-CYPSOM_0.15', 'GNN-CYPSOM_0.2', 'GNN-CYPSOM_0.3', 'GNN-CYPSOM_0.4']\n",
    "    models = ['CYProduct', 'DCyPre', 'GNN-CYPSOM_0.01', 'GNN-CYPSOM_0.05', 'GNN-CYPSOM_0.1',  'GNN-CYPSOM_0.2', 'GNN-CYPSOM_0.3', 'GNN-CYPSOM_0.4', 'GNN-CYPSOM_0.5']\n",
    "# models = ['CYProduct', 'GNN-CYPSOM_0.15',]\n",
    "else:\n",
    "    models = ['CYProduct', 'DCyPre', 'GNN-CYPSOM',]\n",
    "    # models = ['DCyPre', 'GNN-CYPSOM',]\n",
    "\n",
    "for m_name, metrics, plot_name_metrics in zip(metrics_name, metrics_types, plot_name_types):\n",
    "    metrics = [i for i in metrics if ('rec' not in i) and ('prc' not in i) and ('auc' not in i)]\n",
    "    plot_name_metrics = [i for i in plot_name_metrics if ('Recall' not in i) and ('Precision' not in i) and ('AUROC' not in i)]\n",
    "    pallete = sns.color_palette(\"Paired\")\n",
    "\n",
    "    for idx, metric in enumerate(metrics):\n",
    "        data = pd.DataFrame(columns=['CYP', 'Model', metric])\n",
    "        \n",
    "        for model in models:\n",
    "            for cyp in cyp_list:\n",
    "                if not select_th:\n",
    "                    scores = pd.read_csv(f'scores/{model}.csv')\n",
    "                    if model == 'DCyPre':\n",
    "                        try:\n",
    "                            score = scores.query('cyp==@cyp').query('metric==@metric')['score'].item()\n",
    "                        except:\n",
    "                            score = 0\n",
    "                            continue\n",
    "                    score = scores.query('cyp==@cyp').query('metric==@metric')['score'].item()\n",
    "                else:\n",
    "                    if model == 'CYProduct':\n",
    "                        score = scores_cyproduct.query('cyp==@cyp').query('metric==@metric')['score'].item()\n",
    "                    elif model == 'DCyPre':\n",
    "                        try:\n",
    "                            score = scores_DCyPre.query('cyp==@cyp').query('metric==@metric')['score'].item()\n",
    "                        except:\n",
    "                            score = 0\n",
    "                    else:                        \n",
    "                        score = max([i.query('cyp==@cyp').query('metric==@metric')['score'].item() for i in scores_df])\n",
    "  \n",
    "\n",
    "                data = pd.concat( [data, pd.DataFrame({'CYP': [cyp.replace('BOM_', '')], 'Model': [model], metric: [score]})]\n",
    "                                    , ignore_index=True)\n",
    "        \n",
    "        plt.figure(figsize=(15, 2.5))\n",
    "        sns.set_style('whitegrid')\n",
    "        \n",
    "        ax = sns.barplot(x='CYP', y=metric, hue='Model', data=data, palette=pallete, width=0.7)\n",
    "        \n",
    "        ax.set_xlabel('')\n",
    "        ax.set_ylabel(metric)\n",
    "            \n",
    "        # ax.set_ylim(0, 1)  # y축 범위를 0부터 1까지로 고정\n",
    "        maxvalue = round(data[metric].max(), 1)\n",
    "        ax.set_ylim(0, maxvalue+0.05)  # y축 범위를 0부터 1까지로 고정\n",
    "        \n",
    "        # if 'ROC' in plot_name_metrics[idx]:\n",
    "        #     ax.set_ylim(0, 1)  # y축 범위를 0부터 1까지로 고정\n",
    "        # else:\n",
    "        #     ax.set_ylim(0, 0.5)  # y축 범위를 0부터 1까지로 고정\n",
    "            \n",
    "        ax.set_title(f'{plot_name_metrics[idx]}', fontsize=12, fontweight='bold', pad=10)\n",
    "        \n",
    "        ax.legend(title='Model', loc='upper left', bbox_to_anchor=(1, 1))\n",
    "                \n",
    "        plt.tight_layout()\n",
    "        plt.savefig(f'{root}/performance_{metric}.png', bbox_inches='tight')\n",
    "        plt.close()\n",
    "\n",
    "    save_performance(metrics, m_name, root)"
   ]
  },
  {
   "cell_type": "code",
   "execution_count": 25,
   "metadata": {},
   "outputs": [
    {
     "data": {
      "image/png": "[encoded data removed]",
      "text/plain": [
       "<PIL.PngImagePlugin.PngImageFile image mode=RGB size=1489x740>"
      ]
     },
     "execution_count": 25,
     "metadata": {},
     "output_type": "execute_result"
    }
   ],
   "source": [
    "Image.open('plot_score/versus_other_research/performance_Bond-SOM.png')"
   ]
  },
  {
   "cell_type": "code",
   "execution_count": null,
   "metadata": {},
   "outputs": [],
   "source": []
  },
  {
   "cell_type": "code",
   "execution_count": 26,
   "metadata": {},
   "outputs": [],
   "source": [
    "def save_performance(metrics, mtype_name, root):\n",
    "    images = [Image.open(f'{root}/performance_{metric}.png') for metric in metrics]\n",
    "\n",
    "    widths, heights = zip(*(i.size for i in images))\n",
    "\n",
    "    max_width = max(widths)\n",
    "    total_height = sum(heights)\n",
    "\n",
    "    # 이미지 사이의 여백 (픽셀 단위)\n",
    "    padding = 10\n",
    "\n",
    "    # 새로운 이미지 캔버스 생성\n",
    "    new_im = Image.new('RGB', (max_width, total_height + padding * (len(images) - 1)), (255, 255, 255))\n",
    "\n",
    "    # 이미지를 세로로 합치기\n",
    "    y_offset = 0\n",
    "    for im in images:\n",
    "        new_im.paste(im, (0, y_offset))\n",
    "        y_offset += im.size[1] + padding\n",
    "\n",
    "    # 합친 이미지 저장\n",
    "    new_im.save(f'{root}/performance_{mtype_name}.png')\n",
    "\n",
    "    for metric in metrics:\n",
    "        os.remove(f'{root}/performance_{metric}.png')    "
   ]
  },
  {
   "cell_type": "code",
   "execution_count": null,
   "metadata": {},
   "outputs": [],
   "source": []
  },
  {
   "cell_type": "code",
   "execution_count": 27,
   "metadata": {},
   "outputs": [
    {
     "data": {
      "image/png": "[encoded data removed]",
      "text/plain": [
       "<Figure size 1500x700 with 1 Axes>"
      ]
     },
     "metadata": {},
     "output_type": "display_data"
    }
   ],
   "source": [
    "import matplotlib.pyplot as plt\n",
    "import seaborn as sns\n",
    "import pandas as pd\n",
    "\n",
    "metrics_name = ['Bond-SOM',]\n",
    "metrics_types = ['jac_bond_som', 'f1s_bond_som', 'apc_bond_som']\n",
    "plot_name_types = ['Jaccard Score Bond', 'F1-Score Bond', 'AUPRC Bond']\n",
    "\n",
    "gnn_som = pd.read_csv('scores/GNN-SOM.csv')\n",
    "scores_cyproduct = pd.read_csv(f'scores/CYProduct.csv', index_col=None)\n",
    "scores_DCyPre = pd.read_csv(f'scores/DCyPre.csv', index_col=None)\n",
    "\n",
    "root = f'plot_score/versus_other_research_cypreaction'\n",
    "select_th=True\n",
    "models = ['Ours_CYP', 'Ours_CYP_subtype_max', 'DCyPre', 'CYProduct', 'GNN-SOM']\n",
    "\n",
    "# pallete = sns.color_palette(\"Paired\")\n",
    "\n",
    "data = []\n",
    "for idx, metric in enumerate(metrics_types):\n",
    "    # data = pd.DataFrame(columns=['CYP', 'Model', metric])\n",
    "    # this_scores = []\n",
    "    plot_name = plot_name_types[idx]\n",
    "    for model in models:\n",
    "        if model == 'Ours_CYP':\n",
    "            score = max([i.query('cyp==\"CYP_REACTION\"').query('metric==@metric')['score'].item() for i in scores_df])\n",
    "        elif model == 'Ours_CYP_subtype_max':\n",
    "            score = max([i.query('cyp==\"CYP_REACTION_max\"').query('metric==@metric')['score'].item() for i in scores_df])\n",
    "        elif model == 'DCyPre':              \n",
    "            score = scores_DCyPre.query('cyp==\"CYP_REACTION\"').query('metric==@metric')['score'].item()              \n",
    "        elif model == 'CYProduct':\n",
    "            score = scores_cyproduct.query('cyp==\"CYP_REACTION\"').query('metric==@metric')['score'].item()\n",
    "        elif model == 'GNN-SOM':\n",
    "            score = gnn_som.query('cyp==\"CYP_REACTION\"').query('metric==@metric')['score'].item()\n",
    "        data.append({'CYP' : 'CYP_REACTION', 'Model' : model, 'metric' : plot_name, 'score' : score})\n",
    "    \n",
    "\n",
    "data = pd.DataFrame(data)\n",
    "\n",
    "plt.figure(figsize=(15, 7))\n",
    "sns.set_style(\"whitegrid\")\n",
    "\n",
    "# 색상 팔레트 설정\n",
    "palette = sns.color_palette(\"Paired\")\n",
    "\n",
    "# 바 플롯 그리기\n",
    "ax = sns.barplot(x=\"metric\", y=\"score\", hue=\"Model\", data=data, palette=palette)\n",
    "\n",
    "# 그래프 꾸미기\n",
    "plt.title(\"CYP_REACTION Performance Compare\", fontsize=16, fontweight='bold', pad=30)\n",
    "plt.xlabel(\"Metric\", fontsize=12, labelpad=20, fontweight='bold')\n",
    "plt.ylabel(\"Score\", fontsize=12, labelpad=20, fontweight='bold')\n",
    "\n",
    "# y축 범위 설정\n",
    "plt.ylim(0, 0.8)\n",
    "\n",
    "# 범례 위치 조정\n",
    "plt.legend(title=\"Model\", bbox_to_anchor=(1.05, 1), loc='upper left')\n",
    "plt.tight_layout()\n",
    "plt.show()\n",
    "plt.savefig(f'{root}/performance_CYP.png', bbox_inches='tight')\n",
    "plt.close()   \n",
    "    "
   ]
  },
  {
   "cell_type": "code",
   "execution_count": null,
   "metadata": {},
   "outputs": [],
   "source": []
  }
 ],
 "metadata": {
  "kernelspec": {
   "display_name": "crash",
   "language": "python",
   "name": "python3"
  },
  "language_info": {
   "codemirror_mode": {
    "name": "ipython",
    "version": 3
   },
   "file_extension": ".py",
   "mimetype": "text/x-python",
   "name": "python",
   "nbconvert_exporter": "python",
   "pygments_lexer": "ipython3",
   "version": "3.8.17"
  }
 },
 "nbformat": 4,
 "nbformat_minor": 2
}
